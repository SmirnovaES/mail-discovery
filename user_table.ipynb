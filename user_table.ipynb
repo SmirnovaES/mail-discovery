{
 "cells": [
  {
   "cell_type": "code",
   "execution_count": 8,
   "metadata": {},
   "outputs": [],
   "source": [
    "from tqdm import tqdm\n",
    "import sys\n",
    "import csv\n",
    "from dateutil.parser import parse\n",
    "import time\n",
    "import psycopg2\n",
    "from psycopg2.extensions import AsIs\n",
    "\n",
    "maxInt = sys.maxsize\n",
    "decrement = True\n",
    "\n",
    "while decrement:\n",
    "    # decrease the maxInt value by factor 10 \n",
    "    # as long as the OverflowError occurs.\n",
    "\n",
    "    decrement = False\n",
    "    try:\n",
    "        csv.field_size_limit(maxInt)\n",
    "    except OverflowError:\n",
    "        maxInt = int(maxInt/10)\n",
    "        decrement = True"
   ]
  },
  {
   "cell_type": "code",
   "execution_count": 9,
   "metadata": {},
   "outputs": [],
   "source": [
    "def convert_key(key):\n",
    "    converter = {\n",
    "        'Address': 'From',\n",
    "        'Date': 'Date',\n",
    "        'AddressTo': 'To',\n",
    "        'Department': 'From'\n",
    "    }\n",
    "    return converter[key]"
   ]
  },
  {
   "cell_type": "code",
   "execution_count": 10,
   "metadata": {},
   "outputs": [],
   "source": [
    "def get_info(cur_string, key):\n",
    "    \n",
    "    if (key == 'Message'):\n",
    "        cur_string_copy = (cur_string+'.')[:-1]\n",
    "        cur_field = cur_string[:cur_string.find('\\n')]\n",
    "        while (cur_field != ''):\n",
    "            index = cur_string_copy.find('\\n')\n",
    "            cur_field = cur_string_copy[:index]\n",
    "            cur_string_copy = cur_string_copy[index+1:]\n",
    "        return cur_string_copy.strip()\n",
    "    \n",
    "    index = cur_string.find('\\n'+convert_key(key)+': ')\n",
    "    if (index == -1):\n",
    "        return ''\n",
    "    \n",
    "    value_with_trash = cur_string[index+1+len(convert_key(key)+': '):]\n",
    "    cur_piece = value_with_trash[:value_with_trash.find('\\n')+1]\n",
    "    value_with_trash = value_with_trash[value_with_trash.find('\\n')+1:]\n",
    "    while(value_with_trash[0] == ' ' or value_with_trash[0] == '\\t' or value_with_trash[0] == '\\n'):\n",
    "        cur_piece += value_with_trash[:value_with_trash.find('\\n')+1]\n",
    "        value_with_trash = value_with_trash[value_with_trash.find('\\n')+1:]\n",
    "            \n",
    "    if (key == 'Department'):\n",
    "        #первая буква почты - номер отдела\n",
    "        cur_piece = cur_piece.strip()[0]\n",
    "        \n",
    "    return cur_piece.strip()"
   ]
  },
  {
   "cell_type": "code",
   "execution_count": 11,
   "metadata": {},
   "outputs": [],
   "source": [
    "def get_string(line):\n",
    "    #line is an ordered dictionary\n",
    "    norm_dict = dict(line)\n",
    "    cur_string = norm_dict['message']\n",
    "    if (cur_string.find('-----Original Message-----') > -1):\n",
    "        cur_string = cur_string[:cur_string.find('-----Original Message-----')]\n",
    "    if (cur_string.find('---------------------- Forwarded') > -1):\n",
    "        cur_string = cur_string[:cur_string.find('---------------------- Forwarded')]\n",
    "    return cur_string"
   ]
  },
  {
   "cell_type": "code",
   "execution_count": 12,
   "metadata": {},
   "outputs": [],
   "source": [
    "def first_stage(file_name, users):\n",
    "    print('First stage started!')\n",
    "    file_obj = open(file_name, 'r')\n",
    "    reader = csv.DictReader(file_obj, delimiter=',')\n",
    "    with tqdm(total=517401) as pbar:\n",
    "        users_keys = ['Address', 'Department', 'Date']\n",
    "        \n",
    "        for line in reader:\n",
    "            flag_name = False\n",
    "            flag_department = False\n",
    "            cur_string = get_string(line)\n",
    "\n",
    "            if (get_info(cur_string, 'AddressTo') == '' or get_info(cur_string, 'Address') == '' \n",
    "                or get_info(cur_string, 'Message') == ''):\n",
    "                pbar.update(1)\n",
    "                continue\n",
    "            \n",
    "            for key in users_keys:\n",
    "                \n",
    "                cur_field = get_info(cur_string, key)\n",
    "\n",
    "                if (key == 'Address'):\n",
    "                    address = cur_field\n",
    "                    if (address in users.keys()):\n",
    "                        flag_name = True\n",
    "                    else:\n",
    "                        users.setdefault(address)\n",
    "\n",
    "                elif (key == 'Department'):\n",
    "                    department = cur_field\n",
    "                    if (flag_name):\n",
    "                        if (department in users[address].keys()):\n",
    "                            flag_department = True\n",
    "                        else:\n",
    "                            users[address].setdefault(department)\n",
    "                    else:\n",
    "                        users[address] = dict.fromkeys([department])\n",
    "\n",
    "                elif (key == 'Date'):\n",
    "                    date_for_table = cur_field[:cur_field.find('(')]\n",
    "                    date = int(time.mktime(parse(cur_field).timetuple()))\n",
    "                    if (not flag_department):\n",
    "                        users[address][department] = dict.fromkeys(['Id', 'DateBeginForTable', 'DateEndForTable', 'DateBegin', 'DateEnd'])\n",
    "                        users[address][department]['Id'] = len(users)-1\n",
    "                        users[address][department]['DateBeginForTable'] = date_for_table\n",
    "                        users[address][department]['DateEndForTable'] = date_for_table\n",
    "                        users[address][department]['DateBegin'] = date\n",
    "                        users[address][department]['DateEnd'] = date\n",
    "                    else:\n",
    "                        if (date < users[address][department]['DateBegin']):\n",
    "                            users[address][department]['DateBegin'] = date\n",
    "                            users[address][department]['DateBeginForTable'] = date_for_table\n",
    "                        elif (date > users[address][department]['DateEnd']):\n",
    "                            users[address][department]['DateEnd'] = date\n",
    "                            users[address][department]['DateEndForTable'] = date_for_table\n",
    "                            \n",
    "            pbar.update(1)\n",
    "    file_obj.close()\n",
    "    print('First stage finished!')"
   ]
  },
  {
   "cell_type": "code",
   "execution_count": 13,
   "metadata": {},
   "outputs": [],
   "source": [
    "def second_stage(file_name, users):\n",
    "    print('Second stage started!')\n",
    "    file_obj = open(file_name, 'r')\n",
    "    with tqdm(total=517401) as pbar:\n",
    "        reader = csv.DictReader(file_obj, delimiter=',')\n",
    "        for line in reader:\n",
    "            cur_string = get_string(line)\n",
    "            \n",
    "            if (get_info(cur_string, 'AddressTo') == '' or get_info(cur_string, 'Address') == '' \n",
    "                or get_info(cur_string, 'Message') == ''):\n",
    "                pbar.update(1)\n",
    "                continue\n",
    "                \n",
    "            addresses = get_info(cur_string, 'AddressTo')\n",
    "            addresses = addresses.replace('\\n',' ').replace('\\t', ' ').split(',')\n",
    "            \n",
    "            for address in addresses:\n",
    "                address = address.strip()\n",
    "                if (address not in users.keys()):\n",
    "                    users.setdefault(address)\n",
    "                    users[address] = dict.fromkeys(['NULL'])\n",
    "                    date = int(time.mktime(parse('Thu, 1 Jan 1970 00:00:00 +0000 (UTC)').timetuple()))\n",
    "                    users[address]['NULL'] = dict.fromkeys(['Id', 'DateBeginForTable', 'DateEndForTable', 'DateBegin', 'DateEnd'])\n",
    "                    users[address]['NULL']['Id'] = len(users)-1\n",
    "                    users[address]['NULL']['DateBeginForTable'] = '1970-01-01 00:00:00'\n",
    "                    users[address]['NULL']['DateEndForTable'] = '1970-01-01 00:00:00'\n",
    "                    users[address]['NULL']['DateBegin'] = date\n",
    "                    users[address]['NULL']['DateEnd'] = date\n",
    "                \n",
    "            pbar.update(1)\n",
    "    file_obj.close()\n",
    "    print('Second stage finished!')"
   ]
  },
  {
   "cell_type": "code",
   "execution_count": 14,
   "metadata": {},
   "outputs": [],
   "source": [
    "def create_users_table(file_name):\n",
    "\n",
    "    conn = psycopg2.connect(\"dbname='maildata' user='maildiscovery' host='localhost' port='5432' password='mailpass'\")\n",
    "    print('Connected!')\n",
    "    print('Preprocessing started!')\n",
    "    cur = conn.cursor()\n",
    "    drop_statement = 'drop table if exists users'\n",
    "    create_statement = 'create table users (Id integer, Address text, Department text, DateBegin timestamp, DateEnd timestamp)'\n",
    "    cur.execute(drop_statement)\n",
    "    print('Table dropped!')\n",
    "    cur.execute(create_statement)\n",
    "    print('Table created!')\n",
    "\n",
    "    users = dict()\n",
    "    first_stage(file_name, users)\n",
    "    second_stage(file_name, users)\n",
    "    \n",
    "    print('Filling started!')\n",
    "    with tqdm(total=len(users)) as pbar:\n",
    "        columns = ['Id', 'Address', 'Department', 'DateBegin', 'DateEnd']\n",
    "        for address in users.keys():\n",
    "            for department in users[address].keys():\n",
    "                values = [users[address][department]['Id'], address, department,\n",
    "                          users[address][department]['DateBeginForTable'], users[address][department]['DateEndForTable']]\n",
    "                insert_statement = 'insert into users (%s) values %s'\n",
    "                cur.execute(insert_statement, (AsIs(','.join(columns)), tuple(values)))\n",
    "            pbar.update(1)\n",
    "    print('Filling finished!')\n",
    "    \n",
    "    conn.commit()\n",
    "    cur.close()"
   ]
  },
  {
   "cell_type": "code",
   "execution_count": 15,
   "metadata": {},
   "outputs": [
    {
     "name": "stdout",
     "output_type": "stream",
     "text": [
      "Connected!\n",
      "Preprocessing started!\n",
      "Table dropped!\n"
     ]
    },
    {
     "name": "stderr",
     "output_type": "stream",
     "text": [
      "  0%|          | 288/517401 [00:00<02:59, 2878.16it/s]"
     ]
    },
    {
     "name": "stdout",
     "output_type": "stream",
     "text": [
      "Table created!\n",
      "First stage started!\n"
     ]
    },
    {
     "name": "stderr",
     "output_type": "stream",
     "text": [
      "100%|██████████| 517401/517401 [02:44<00:00, 3150.68it/s]\n",
      "  0%|          | 1168/517401 [00:00<00:44, 11676.95it/s]"
     ]
    },
    {
     "name": "stdout",
     "output_type": "stream",
     "text": [
      "First stage finished!\n",
      "Second stage started!\n"
     ]
    },
    {
     "name": "stderr",
     "output_type": "stream",
     "text": [
      "100%|██████████| 517401/517401 [01:03<00:00, 8137.31it/s] \n",
      "  0%|          | 192/79346 [00:00<00:41, 1919.29it/s]"
     ]
    },
    {
     "name": "stdout",
     "output_type": "stream",
     "text": [
      "Second stage finished!\n",
      "Filling started!\n"
     ]
    },
    {
     "name": "stderr",
     "output_type": "stream",
     "text": [
      "100%|██████████| 79346/79346 [00:20<00:00, 3914.45it/s]\n"
     ]
    },
    {
     "name": "stdout",
     "output_type": "stream",
     "text": [
      "Filling finished!\n"
     ]
    }
   ],
   "source": [
    "create_users_table('emails.csv')"
   ]
  },
  {
   "cell_type": "code",
   "execution_count": null,
   "metadata": {},
   "outputs": [],
   "source": []
  }
 ],
 "metadata": {
  "kernelspec": {
   "display_name": "Python 3",
   "language": "python",
   "name": "python3"
  },
  "language_info": {
   "codemirror_mode": {
    "name": "ipython",
    "version": 3
   },
   "file_extension": ".py",
   "mimetype": "text/x-python",
   "name": "python",
   "nbconvert_exporter": "python",
   "pygments_lexer": "ipython3",
   "version": "3.6.4"
  }
 },
 "nbformat": 4,
 "nbformat_minor": 2
}

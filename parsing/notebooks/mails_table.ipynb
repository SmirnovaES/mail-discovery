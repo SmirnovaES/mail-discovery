{
 "cells": [
  {
   "cell_type": "code",
   "execution_count": 2,
   "metadata": {},
   "outputs": [],
   "source": [
    "from tqdm import tqdm\n",
    "import sys\n",
    "import csv\n",
    "from dateutil.parser import parse\n",
    "import time\n",
    "import psycopg2\n",
    "from psycopg2.extensions import AsIs\n",
    "\n",
    "maxInt = sys.maxsize\n",
    "decrement = True\n",
    "\n",
    "while decrement:\n",
    "    # decrease the maxInt value by factor 10 \n",
    "    # as long as the OverflowError occurs.\n",
    "\n",
    "    decrement = False\n",
    "    try:\n",
    "        csv.field_size_limit(maxInt)\n",
    "    except OverflowError:\n",
    "        maxInt = int(maxInt/10)\n",
    "        decrement = True"
   ]
  },
  {
   "cell_type": "code",
   "execution_count": 3,
   "metadata": {},
   "outputs": [
    {
     "name": "stdout",
     "output_type": "stream",
     "text": [
      "['Date', 'AddressFrom', 'AddressTo', 'Subject']\n"
     ]
    }
   ],
   "source": [
    "useless = ['', 'X-Folder', 'Message-ID', 'X-Origin', 'Cc', 'Time', 'Attendees', 'Bcc', 'Mime-Version',\n",
    "            'X-FileName', 'X-bcc', 'X-cc', 'Content-Transfer-Encoding', 'Content-Type', 'Re', 'NameTo', 'NameFrom']\n",
    "useful = ['Date', 'AddressFrom', 'AddressTo', 'Subject']\n",
    "print(useful)\n",
    "\n",
    "#Если что, текста тут и не должно быть - для него нет ключа"
   ]
  },
  {
   "cell_type": "code",
   "execution_count": 4,
   "metadata": {},
   "outputs": [],
   "source": [
    "def convert_key(key):\n",
    "    converter = {\n",
    "        'Date': 'Date',\n",
    "        'AddressFrom': 'From',\n",
    "        'AddressTo': 'To',\n",
    "        'Subject': 'Subject'\n",
    "    }\n",
    "    return converter[key]"
   ]
  },
  {
   "cell_type": "code",
   "execution_count": 5,
   "metadata": {},
   "outputs": [],
   "source": [
    "def get_info(cur_string, key):\n",
    "    \n",
    "    if (key == 'Message'):\n",
    "        cur_string_copy = (cur_string+'.')[:-1]\n",
    "        cur_field = cur_string[:cur_string.find('\\n')]\n",
    "        while (cur_field != ''):\n",
    "            index = cur_string_copy.find('\\n')\n",
    "            cur_field = cur_string_copy[:index]\n",
    "            cur_string_copy = cur_string_copy[index+1:]\n",
    "        return cur_string_copy.strip()\n",
    "    \n",
    "    else:\n",
    "        index = cur_string.find('\\n'+convert_key(key)+': ')\n",
    "        if (index == -1):\n",
    "            return ''\n",
    "        value_with_trash = cur_string[index+1+len(convert_key(key)+': '):]\n",
    "        cur_piece = value_with_trash[:value_with_trash.find('\\n')+1]\n",
    "        value_with_trash = value_with_trash[value_with_trash.find('\\n')+1:]\n",
    "        while(value_with_trash[0] == ' ' or value_with_trash[0] == '\\t' or value_with_trash[0] == '\\n'):\n",
    "            cur_piece += value_with_trash[:value_with_trash.find('\\n')+1]\n",
    "            value_with_trash = value_with_trash[value_with_trash.find('\\n')+1:]\n",
    "            \n",
    "        if (key == 'Date'):\n",
    "            pdt_index = cur_piece.find('(')\n",
    "            cur_piece = cur_piece[:pdt_index].strip()\n",
    "\n",
    "        return cur_piece.strip()"
   ]
  },
  {
   "cell_type": "code",
   "execution_count": 35,
   "metadata": {},
   "outputs": [],
   "source": [
    "def get_string(line):\n",
    "    norm_dict = dict(line)\n",
    "    cur_string = norm_dict['message']\n",
    "    if (cur_string.find('-----Original Message-----') > -1):\n",
    "        cur_string = cur_string[:cur_string.find('-----Original Message-----')]\n",
    "    if (cur_string.find('---------------------- Forwarded') > -1):\n",
    "        cur_string = cur_string[:cur_string.find('---------------------- Forwarded')]\n",
    "    return cur_string"
   ]
  },
  {
   "cell_type": "code",
   "execution_count": 46,
   "metadata": {},
   "outputs": [],
   "source": [
    "def create_main_table(file_obj):\n",
    "    \n",
    "    conn = psycopg2.connect(\"dbname='maildata' user='maildiscovery' host='localhost' port='5432' password='mailpass'\")\n",
    "    print('Connected!')\n",
    "    cur = conn.cursor()\n",
    "    drop_statement = 'drop table if exists mails'\n",
    "    create_statement = 'create table mails (Id integer, Date timestamp, AddressFrom text, AddressTo text, Subject text, Message text)'\n",
    "    cur.execute(drop_statement)\n",
    "    print('Table dropped!')\n",
    "    cur.execute(create_statement)\n",
    "    print('Table created!')\n",
    "    \n",
    "    print('Filling started!')\n",
    "    reader = csv.DictReader(file_obj, delimiter=',')\n",
    "    with tqdm(total=517401) as pbar:\n",
    "        cur_max_id = 0\n",
    "        for line in reader:\n",
    "            #line is an ordered dictionary\n",
    "            cur_string = get_string(line)\n",
    "            letter = dict.fromkeys(useful)\n",
    "            letter.setdefault('Message')\n",
    "            letter.setdefault('Id')\n",
    "            \n",
    "            for key in letter.keys():\n",
    "                if (key == 'Id'):\n",
    "                    letter['Id'] = cur_max_id\n",
    "                    \n",
    "                else:\n",
    "                    letter[key] = get_info(cur_string, key)\n",
    "                    \n",
    "            if (letter['AddressTo'] == '' or letter['AddressFrom'] == '' or letter['Message'] == ''):\n",
    "                pbar.update(1)\n",
    "                continue\n",
    "                \n",
    "            columns = letter.keys()\n",
    "            values = [letter[column] for column in columns]\n",
    "            insert_statement = 'insert into mails (%s) values %s'\n",
    "            cur.execute(insert_statement, (AsIs(','.join(columns)), tuple(values)))\n",
    "            cur_max_id += 1\n",
    "            pbar.update(1)\n",
    "            \n",
    "    print('Filling finished!')\n",
    "    conn.commit()\n",
    "    cur.close()"
   ]
  },
  {
   "cell_type": "code",
   "execution_count": 47,
   "metadata": {},
   "outputs": [
    {
     "name": "stdout",
     "output_type": "stream",
     "text": [
      "Connected!\n",
      "Table dropped!\n"
     ]
    },
    {
     "name": "stderr",
     "output_type": "stream",
     "text": [
      "  0%|          | 1/517401 [00:00<19:59:30,  7.19it/s]"
     ]
    },
    {
     "name": "stdout",
     "output_type": "stream",
     "text": [
      "Table created!\n",
      "Filling started!\n"
     ]
    },
    {
     "name": "stderr",
     "output_type": "stream",
     "text": [
      "100%|██████████| 517401/517401 [03:43<00:00, 2312.60it/s]\n"
     ]
    },
    {
     "name": "stdout",
     "output_type": "stream",
     "text": [
      "Filling finished!\n"
     ]
    }
   ],
   "source": [
    "with open(\"emails.csv\") as f_obj:\n",
    "    create_main_table(f_obj)"
   ]
  }
 ],
 "metadata": {
  "kernelspec": {
   "display_name": "Python 3",
   "language": "python",
   "name": "python3"
  },
  "language_info": {
   "codemirror_mode": {
    "name": "ipython",
    "version": 3
   },
   "file_extension": ".py",
   "mimetype": "text/x-python",
   "name": "python",
   "nbconvert_exporter": "python",
   "pygments_lexer": "ipython3",
   "version": "3.6.4"
  }
 },
 "nbformat": 4,
 "nbformat_minor": 2
}

{
 "cells": [
  {
   "cell_type": "code",
   "execution_count": 5,
   "metadata": {},
   "outputs": [],
   "source": [
    "import json\n",
    "answer = open('mboxanswer.json', 'r')\n",
    "file = json.load(answer)"
   ]
  },
  {
   "cell_type": "code",
   "execution_count": 6,
   "metadata": {},
   "outputs": [
    {
     "name": "stdout",
     "output_type": "stream",
     "text": [
      "{'html', 'text', 'replyTo', 'to', 'headers', 'date', 'attachments', 'subject', 'priority', 'references', 'receivedDate', 'messageId', 'from'}\n"
     ]
    }
   ],
   "source": [
    "attributes = set()\n",
    "for i in file:\n",
    "    for j in i.keys():\n",
    "        attributes.add(j)\n",
    "        \n",
    "print(attributes)"
   ]
  },
  {
   "cell_type": "code",
   "execution_count": 7,
   "metadata": {},
   "outputs": [],
   "source": [
    "useful = dict.fromkeys(['date', 'from', 'subject', 'text', 'to'], 0)\n",
    "useless = dict.fromkeys(['attachements', 'headers', 'html', 'messageId', 'priority', 'recievedDate',\n",
    "                       'references', 'replyTo'], 0)"
   ]
  },
  {
   "cell_type": "code",
   "execution_count": 8,
   "metadata": {},
   "outputs": [],
   "source": [
    "def pretty_print_json(data):\n",
    "    for st in data:\n",
    "        print(json.dumps(st, indent=\"   \", ensure_ascii=False, sort_keys=True),\n",
    "              json.dumps(data[st], indent=\"   \", ensure_ascii=False, sort_keys=True))"
   ]
  },
  {
   "cell_type": "code",
   "execution_count": 9,
   "metadata": {},
   "outputs": [
    {
     "name": "stdout",
     "output_type": "stream",
     "text": [
      "\"text\" \"Вам предоставлен доступ к документу:\\r\\n\\r\\nUntitled form\\r\\nhttps://docs.google.com/forms/d/1iCJErhHV10qLsp9OP-zJtEdvxCUjPefq7cgX_KPVJfw/edit?usp=sharing&ts=5a8dde8e\\r\\n\\r\\nДокумент хранится в Интернете. Чтобы открыть его, перейдите по ссылке выше.\\r\\n\"\n",
      "\"subject\" \"Вам открыт доступ для редактирования (Untitled form)\"\n",
      "\"from\" [\n",
      "   {\n",
      "      \"address\": \"drive-shares-noreply@google.com\",\n",
      "      \"name\": \"Lena Smirnova (через Google Формы)\"\n",
      "   }\n",
      "]\n",
      "\"to\" [\n",
      "   {\n",
      "      \"address\": \"narsiya.da@phystech.edu\",\n",
      "      \"name\": \"\"\n",
      "   }\n",
      "]\n",
      "\"date\" \"2018-02-21T21:03:10.000Z\"\n",
      "\"receivedDate\" \"2018-02-21T21:03:11.000Z\"\n"
     ]
    }
   ],
   "source": [
    "for key in useless.keys():\n",
    "    file[0].pop(key, 0)\n",
    "pretty_print_json(file[0])"
   ]
  },
  {
   "cell_type": "code",
   "execution_count": null,
   "metadata": {},
   "outputs": [],
   "source": []
  }
 ],
 "metadata": {
  "kernelspec": {
   "display_name": "Python 3",
   "language": "python",
   "name": "python3"
  },
  "language_info": {
   "codemirror_mode": {
    "name": "ipython",
    "version": 3
   },
   "file_extension": ".py",
   "mimetype": "text/x-python",
   "name": "python",
   "nbconvert_exporter": "python",
   "pygments_lexer": "ipython3",
   "version": "3.6.4"
  }
 },
 "nbformat": 4,
 "nbformat_minor": 2
}
